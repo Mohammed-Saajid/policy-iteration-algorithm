{
 "nbformat": 4,
 "nbformat_minor": 0,
 "metadata": {
  "colab": {
   "provenance": []
  },
  "kernelspec": {
   "name": "python3",
   "display_name": "Python 3"
  },
  "language_info": {
   "name": "python"
  }
 },
 "cells": [
  {
   "cell_type": "code",
   "source": [
    "pip install git+https://github.com/mimoralea/gym-walk#egg=gym-walk"
   ],
   "metadata": {
    "colab": {
     "base_uri": "https://localhost:8080/"
    },
    "id": "-EhYvZLUlIeh",
    "outputId": "49e55d97-dade-462f-82ad-839b8bc173ec"
   },
   "execution_count": 1,
   "outputs": [
    {
     "output_type": "stream",
     "name": "stdout",
     "text": [
      "Collecting gym-walk\n",
      "  Cloning https://github.com/mimoralea/gym-walk to /tmp/pip-install-cyt_wfyi/gym-walk_5d7dffd07af543a799fbb61694fd5318\n",
      "  Running command git clone --filter=blob:none --quiet https://github.com/mimoralea/gym-walk /tmp/pip-install-cyt_wfyi/gym-walk_5d7dffd07af543a799fbb61694fd5318\n",
      "  Resolved https://github.com/mimoralea/gym-walk to commit 5999016267d6de2f5a63307fb00dfd63de319ac1\n",
      "  Preparing metadata (setup.py) ... \u001b[?25l\u001b[?25hdone\n",
      "Requirement already satisfied: gym in /usr/local/lib/python3.10/dist-packages (from gym-walk) (0.25.2)\n",
      "Requirement already satisfied: numpy>=1.18.0 in /usr/local/lib/python3.10/dist-packages (from gym->gym-walk) (1.26.4)\n",
      "Requirement already satisfied: cloudpickle>=1.2.0 in /usr/local/lib/python3.10/dist-packages (from gym->gym-walk) (2.2.1)\n",
      "Requirement already satisfied: gym-notices>=0.0.4 in /usr/local/lib/python3.10/dist-packages (from gym->gym-walk) (0.0.8)\n",
      "Building wheels for collected packages: gym-walk\n",
      "  Building wheel for gym-walk (setup.py) ... \u001b[?25l\u001b[?25hdone\n",
      "  Created wheel for gym-walk: filename=gym_walk-0.0.2-py3-none-any.whl size=4058 sha256=a5d27bcbb7a6babf0355c32490a9aa76add401252cb5771b8ba368ee1c947312\n",
      "  Stored in directory: /tmp/pip-ephem-wheel-cache-sdagd9ou/wheels/24/fe/c4/0cbc7511d29265bad7e28a09311db3f87f0cafba74af54d530\n",
      "Successfully built gym-walk\n",
      "Installing collected packages: gym-walk\n",
      "Successfully installed gym-walk-0.0.2\n"
     ]
    }
   ]
  },
  {
   "cell_type": "code",
   "execution_count": 2,
   "metadata": {
    "id": "fW47hveBwfmU"
   },
   "outputs": [],
   "source": [
    "import warnings ; warnings.filterwarnings('ignore')\n",
    "\n",
    "import gym, gym_walk\n",
    "import numpy as np\n",
    "\n",
    "import random\n",
    "import warnings\n",
    "\n",
    "warnings.filterwarnings('ignore', category=DeprecationWarning)\n",
    "np.set_printoptions(suppress=True)\n",
    "random.seed(123); np.random.seed(123)\n"
   ]
  },
  {
   "cell_type": "code",
   "source": [
    "def print_policy(pi, P, action_symbols=('<', 'v', '>', '^'), n_cols=4, title='Policy:'):\n",
    "    print(title)\n",
    "    arrs = {k:v for k,v in enumerate(action_symbols)}\n",
    "    for s in range(len(P)):\n",
    "        a = pi(s)\n",
    "        print(\"| \", end=\"\")\n",
    "        if np.all([done for action in P[s].values() for _, _, _, done in action]):\n",
    "            print(\"\".rjust(9), end=\" \")\n",
    "        else:\n",
    "            print(str(s).zfill(2), arrs[a].rjust(6), end=\" \")\n",
    "        if (s + 1) % n_cols == 0: print(\"|\")\n"
   ],
   "metadata": {
    "id": "DH4me4ofw8fB"
   },
   "execution_count": 3,
   "outputs": []
  },
  {
   "cell_type": "code",
   "source": [
    "def print_state_value_function(V, P, n_cols=4, prec=3, title='State-value function:'):\n",
    "    print(title)\n",
    "    for s in range(len(P)):\n",
    "        v = V[s]\n",
    "        print(\"| \", end=\"\")\n",
    "        if np.all([done for action in P[s].values() for _, _, _, done in action]):\n",
    "            print(\"\".rjust(9), end=\" \")\n",
    "        else:\n",
    "            print(str(s).zfill(2), '{}'.format(np.round(v, prec)).rjust(6), end=\" \")\n",
    "        if (s + 1) % n_cols == 0: print(\"|\")"
   ],
   "metadata": {
    "id": "7QDTyvZHxB8x"
   },
   "execution_count": 4,
   "outputs": []
  },
  {
   "cell_type": "code",
   "source": [
    "def probability_success(env, pi, goal_state, n_episodes=100, max_steps=200):\n",
    "    random.seed(123); np.random.seed(123) ; env.seed(123)\n",
    "    results = []\n",
    "    for _ in range(n_episodes):\n",
    "        state, done, steps = env.reset(), False, 0\n",
    "        while not done and steps < max_steps:\n",
    "            state, _, done, h = env.step(pi(state))\n",
    "            steps += 1\n",
    "        results.append(state == goal_state)\n",
    "    return np.sum(results)/len(results)\n"
   ],
   "metadata": {
    "id": "UZbqhOMtxHIe"
   },
   "execution_count": 5,
   "outputs": []
  },
  {
   "cell_type": "code",
   "source": [
    "def mean_return(env, pi, n_episodes=100, max_steps=200):\n",
    "    random.seed(123); np.random.seed(123) ; env.seed(123)\n",
    "    results = []\n",
    "    for _ in range(n_episodes):\n",
    "        state, done, steps = env.reset(), False, 0\n",
    "        results.append(0.0)\n",
    "        while not done and steps < max_steps:\n",
    "            state, reward, done, _ = env.step(pi(state))\n",
    "            results[-1] += reward\n",
    "            steps += 1\n",
    "    return np.mean(results)"
   ],
   "metadata": {
    "id": "3BnVe6AgxNLR"
   },
   "execution_count": 6,
   "outputs": []
  },
  {
   "cell_type": "code",
   "source": [
    "env = gym.make('SlipperyWalkFive-v0')\n",
    "P = env.env.P\n",
    "init_state = env.reset()\n",
    "goal_state = 6\n",
    "LEFT, RIGHT = range(2)"
   ],
   "metadata": {
    "id": "JMDOjVFixOj5"
   },
   "execution_count": 7,
   "outputs": []
  },
  {
   "cell_type": "code",
   "source": [
    "P"
   ],
   "metadata": {
    "colab": {
     "base_uri": "https://localhost:8080/"
    },
    "id": "j5tpZyYaxS-y",
    "outputId": "e4eac140-3b46-4732-fdb5-e26d7475e795"
   },
   "execution_count": 8,
   "outputs": [
    {
     "output_type": "execute_result",
     "data": {
      "text/plain": [
       "{0: {0: [(0.5000000000000001, 0, 0.0, True),\n",
       "   (0.3333333333333333, 0, 0.0, True),\n",
       "   (0.16666666666666666, 0, 0.0, True)],\n",
       "  1: [(0.5000000000000001, 0, 0.0, True),\n",
       "   (0.3333333333333333, 0, 0.0, True),\n",
       "   (0.16666666666666666, 0, 0.0, True)]},\n",
       " 1: {0: [(0.5000000000000001, 0, 0.0, True),\n",
       "   (0.3333333333333333, 1, 0.0, False),\n",
       "   (0.16666666666666666, 2, 0.0, False)],\n",
       "  1: [(0.5000000000000001, 2, 0.0, False),\n",
       "   (0.3333333333333333, 1, 0.0, False),\n",
       "   (0.16666666666666666, 0, 0.0, True)]},\n",
       " 2: {0: [(0.5000000000000001, 1, 0.0, False),\n",
       "   (0.3333333333333333, 2, 0.0, False),\n",
       "   (0.16666666666666666, 3, 0.0, False)],\n",
       "  1: [(0.5000000000000001, 3, 0.0, False),\n",
       "   (0.3333333333333333, 2, 0.0, False),\n",
       "   (0.16666666666666666, 1, 0.0, False)]},\n",
       " 3: {0: [(0.5000000000000001, 2, 0.0, False),\n",
       "   (0.3333333333333333, 3, 0.0, False),\n",
       "   (0.16666666666666666, 4, 0.0, False)],\n",
       "  1: [(0.5000000000000001, 4, 0.0, False),\n",
       "   (0.3333333333333333, 3, 0.0, False),\n",
       "   (0.16666666666666666, 2, 0.0, False)]},\n",
       " 4: {0: [(0.5000000000000001, 3, 0.0, False),\n",
       "   (0.3333333333333333, 4, 0.0, False),\n",
       "   (0.16666666666666666, 5, 0.0, False)],\n",
       "  1: [(0.5000000000000001, 5, 0.0, False),\n",
       "   (0.3333333333333333, 4, 0.0, False),\n",
       "   (0.16666666666666666, 3, 0.0, False)]},\n",
       " 5: {0: [(0.5000000000000001, 4, 0.0, False),\n",
       "   (0.3333333333333333, 5, 0.0, False),\n",
       "   (0.16666666666666666, 6, 1.0, True)],\n",
       "  1: [(0.5000000000000001, 6, 1.0, True),\n",
       "   (0.3333333333333333, 5, 0.0, False),\n",
       "   (0.16666666666666666, 4, 0.0, False)]},\n",
       " 6: {0: [(0.5000000000000001, 6, 0.0, True),\n",
       "   (0.3333333333333333, 6, 0.0, True),\n",
       "   (0.16666666666666666, 6, 0.0, True)],\n",
       "  1: [(0.5000000000000001, 6, 0.0, True),\n",
       "   (0.3333333333333333, 6, 0.0, True),\n",
       "   (0.16666666666666666, 6, 0.0, True)]}}"
      ]
     },
     "metadata": {},
     "execution_count": 8
    }
   ]
  },
  {
   "cell_type": "code",
   "source": [
    "init_state"
   ],
   "metadata": {
    "colab": {
     "base_uri": "https://localhost:8080/"
    },
    "id": "k3NTT8_mxVWX",
    "outputId": "022a6dbf-7f27-44b7-aa28-8cb62546986c"
   },
   "execution_count": 9,
   "outputs": [
    {
     "output_type": "execute_result",
     "data": {
      "text/plain": [
       "3"
      ]
     },
     "metadata": {},
     "execution_count": 9
    }
   ]
  },
  {
   "cell_type": "code",
   "source": [
    "state, reward, done, info = env.step(RIGHT)\n",
    "print(\"state:{0} - reward:{1} - done:{2} - info:{3}\".format(state, reward, done, info))"
   ],
   "metadata": {
    "colab": {
     "base_uri": "https://localhost:8080/"
    },
    "id": "edLXMzZyxZXY",
    "outputId": "78ac1ff2-1adb-4f8a-96c8-b3bb3db90ec6"
   },
   "execution_count": 10,
   "outputs": [
    {
     "output_type": "stream",
     "name": "stdout",
     "text": [
      "state:4 - reward:0.0 - done:False - info:{'prob': 0.5000000000000001}\n"
     ]
    }
   ]
  },
  {
   "cell_type": "code",
   "source": [
    "# Adversarial Policy\n",
    "pi_1 = lambda s: {\n",
    "    0:LEFT, 1:LEFT, 2:LEFT, 3:LEFT, 4:LEFT, 5:LEFT, 6:LEFT\n",
    "}[s]\n",
    "print_policy(pi_1, P, action_symbols=('<', '>'), n_cols=7)"
   ],
   "metadata": {
    "colab": {
     "base_uri": "https://localhost:8080/"
    },
    "id": "F0vTM7uCxdKW",
    "outputId": "f91375f7-b236-4825-f2c0-addeaedc40bf"
   },
   "execution_count": 11,
   "outputs": [
    {
     "output_type": "stream",
     "name": "stdout",
     "text": [
      "Policy:\n",
      "|           | 01      < | 02      < | 03      < | 04      < | 05      < |           |\n"
     ]
    }
   ]
  },
  {
   "cell_type": "code",
   "source": [
    "print('Reaches goal {:.2f}%. Obtains an average undiscounted return of {:.4f}.'.format(\n",
    "    probability_success(env, pi_1, goal_state=goal_state)*100,\n",
    "    mean_return(env, pi_1)))"
   ],
   "metadata": {
    "colab": {
     "base_uri": "https://localhost:8080/"
    },
    "id": "0QqaiWgjxhS_",
    "outputId": "7093d7da-c0e2-4cc7-dade-423e3db51719"
   },
   "execution_count": 12,
   "outputs": [
    {
     "output_type": "stream",
     "name": "stdout",
     "text": [
      "Reaches goal 3.00%. Obtains an average undiscounted return of 0.0300.\n"
     ]
    }
   ]
  },
  {
   "cell_type": "code",
   "source": [
    "def policy_improvement(V, P, gamma=1.0):\n",
    "    Q = np.zeros((len(P), len(P[0])), dtype=np.float64)\n",
    "    # Write your code here to implement policy improvement algorithm\n",
    "    for s in range(len(P)):\n",
    "      for a in range(len(P[s])):\n",
    "        for prob, next_state,reward, done in P[s][a]:\n",
    "          Q[s][a]+= prob*(reward+gamma*V[next_state]*(not done))\n",
    "          new_pi = lambda s: {s:a for s, a in enumerate(np.argmax(Q, axis=1))}[s]\n",
    "\n",
    "    return new_pi"
   ],
   "metadata": {
    "id": "kc6pK5ksxocD"
   },
   "execution_count": 27,
   "outputs": []
  },
  {
   "cell_type": "code",
   "source": [
    "V1 = policy_evaluation(pi_1, P)\n",
    "# Name : Mohammed Saajid\n",
    "print_state_value_function(V1, P, n_cols=7, prec=5)"
   ],
   "metadata": {
    "colab": {
     "base_uri": "https://localhost:8080/"
    },
    "id": "TeqNtiLjxqQt",
    "outputId": "29803420-0f42-48df-a412-6d294cfa3300"
   },
   "execution_count": 28,
   "outputs": [
    {
     "output_type": "stream",
     "name": "stdout",
     "text": [
      "Name: Challa Sandeep                Register Number: 212221240011     \n",
      "State-value function:\n",
      "|           | 01 0.00275 | 02 0.01099 | 03 0.03571 | 04 0.10989 | 05 0.33242 |           |\n"
     ]
    }
   ]
  },
  {
   "cell_type": "code",
   "source": [
    "def policy_iteration(P, gamma=1.0,theta=1e-10):\n",
    "  random_actions=np.random.choice(tuple(P[0].keys()),len(P))\n",
    "  pi = lambda s: {s:a for s, a in enumerate(random_actions)}[s]\n",
    "  while True:\n",
    "    old_pi = {s:pi(s) for s in range(len(P))}\n",
    "    V = policy_evaluation(pi, P,gamma,theta)\n",
    "    pi = policy_improvement(V,P,gamma)\n",
    "    if old_pi == {s:pi(s) for s in range(len(P))}:\n",
    "      break\n",
    "  return V,pi"
   ],
   "metadata": {
    "id": "gojUwit9yEzk"
   },
   "execution_count": 29,
   "outputs": []
  },
  {
   "cell_type": "code",
   "source": [
    "\n",
    "# Finding the improved policy\n",
    "pi_2 = policy_improvement(V1, P)\n",
    "# Name : Mohammed Saajid\n",
    "print_policy(pi_2, P, action_symbols=('<', '>'), n_cols=7)"
   ],
   "metadata": {
    "colab": {
     "base_uri": "https://localhost:8080/"
    },
    "id": "01s1eKxoyK_Z",
    "outputId": "58ef9973-4c46-4668-f1df-419060807771"
   },
   "execution_count": 30,
   "outputs": [
    {
     "output_type": "stream",
     "name": "stdout",
     "text": [
      "Name: Challa Sandeep               Register Number: 212221240011      \n",
      "Policy:\n",
      "|           | 01      > | 02      > | 03      > | 04      > | 05      > |           |\n"
     ]
    }
   ]
  },
  {
   "cell_type": "code",
   "source": [
    "print('Reaches goal {:.2f}%. Obtains an average undiscounted return of {:.4f}.'.format(\n",
    "    probability_success(env, pi_2, goal_state=goal_state)*100,\n",
    "    mean_return(env, pi_2)))"
   ],
   "metadata": {
    "colab": {
     "base_uri": "https://localhost:8080/"
    },
    "id": "Nmms0i-tyeAW",
    "outputId": "94d22940-324b-428f-eec0-a0747d73a2d2"
   },
   "execution_count": 31,
   "outputs": [
    {
     "output_type": "stream",
     "name": "stdout",
     "text": [
      "Reaches goal 97.00%. Obtains an average undiscounted return of 0.9700.\n"
     ]
    }
   ]
  },
  {
   "cell_type": "code",
   "source": [
    "V2 = policy_evaluation(pi_2, P)\n",
    "# Name : Mohammed Saajid\n",
    "print_state_value_function(V2, P, n_cols=7, prec=5)"
   ],
   "metadata": {
    "colab": {
     "base_uri": "https://localhost:8080/"
    },
    "id": "Q-_Q7nhtyfYz",
    "outputId": "c3268610-817b-49ff-f2e2-5da942b8fa16"
   },
   "execution_count": 32,
   "outputs": [
    {
     "output_type": "stream",
     "name": "stdout",
     "text": [
      "Name: Challa Sandeep               Register Number: 212221240011       \n",
      "State-value function:\n",
      "|           | 01 0.66758 | 02 0.89011 | 03 0.96429 | 04 0.98901 | 05 0.99725 |           |\n"
     ]
    }
   ]
  },
  {
   "cell_type": "code",
   "source": [
    "def policy_iteration(P, gamma=0.9, theta=1e-10):\n",
    "    random_actions = np.random.choice(tuple(P[0].keys()), len(P))\n",
    "    pi = lambda s: {s: a for s, a in enumerate(random_actions)}[s]\n",
    "    while True:\n",
    "        old_pi = {s: pi(s) for s in range(len(P))}\n",
    "        V = policy_evaluation(pi, P, gamma, theta)\n",
    "        pi = policy_improvement(V, P, gamma)\n",
    "        if old_pi == {s: pi(s) for s in range(len(P))}:\n",
    "            break\n",
    "    return V, pi"
   ],
   "metadata": {
    "id": "xHHKDHn3wlck"
   },
   "execution_count": 33,
   "outputs": []
  },
  {
   "cell_type": "code",
   "source": [
    "optimal_V, optimal_pi = policy_iteration(P)"
   ],
   "metadata": {
    "id": "76AgkQplx1L3"
   },
   "execution_count": 34,
   "outputs": []
  },
  {
   "cell_type": "code",
   "source": [
    "# Name : Mohammed Saajid\n",
    "print('Optimal policy and state-value function (PI):')\n",
    "print_policy(optimal_pi, P, action_symbols=('<', '>'), n_cols=7)"
   ],
   "metadata": {
    "colab": {
     "base_uri": "https://localhost:8080/"
    },
    "id": "EYkh5jc2yzBh",
    "outputId": "5739f9fa-29dc-4170-d594-7cb0a6657d74"
   },
   "execution_count": 35,
   "outputs": [
    {
     "output_type": "stream",
     "name": "stdout",
     "text": [
      "Name: Challa Sandeep                 Register Number: 212221240011      \n",
      "Optimal policy and state-value function (PI):\n",
      "Policy:\n",
      "|           | 01      > | 02      > | 03      > | 04      > | 05      > |           |\n"
     ]
    }
   ]
  },
  {
   "cell_type": "code",
   "source": [
    "print('Reaches goal {:.2f}%. Obtains an average undiscounted return of {:.4f}.'.format(\n",
    "    probability_success(env, optimal_pi, goal_state=goal_state)*100,\n",
    "    mean_return(env, optimal_pi)))\n",
    "\n"
   ],
   "metadata": {
    "colab": {
     "base_uri": "https://localhost:8080/"
    },
    "id": "NNLmDLGby5fa",
    "outputId": "0119dce4-b156-4d70-eb1c-152b4969b5d5"
   },
   "execution_count": 36,
   "outputs": [
    {
     "output_type": "stream",
     "name": "stdout",
     "text": [
      "Reaches goal 97.00%. Obtains an average undiscounted return of 0.9700.\n"
     ]
    }
   ]
  },
  {
   "cell_type": "code",
   "source": [
    "print_state_value_function(optimal_V, P, n_cols=7, prec=5)\n"
   ],
   "metadata": {
    "colab": {
     "base_uri": "https://localhost:8080/"
    },
    "id": "0kvGLXYTy8OG",
    "outputId": "4304abe8-ec95-4c7c-abdf-f1d639981d12"
   },
   "execution_count": 37,
   "outputs": [
    {
     "output_type": "stream",
     "name": "stdout",
     "text": [
      "State-value function:\n",
      "|           | 01 0.24113 | 02 0.3751 | 03 0.50311 | 04 0.65758 | 05 0.85519 |           |\n"
     ]
    }
   ]
  },
  {
   "cell_type": "code",
   "source": [],
   "metadata": {
    "id": "OfK0iSAKlP-T"
   },
   "execution_count": null,
   "outputs": []
  }
 ]
}